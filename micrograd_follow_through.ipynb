{
 "cells": [
  {
   "cell_type": "code",
   "execution_count": null,
   "metadata": {},
   "outputs": [],
   "source": [
    "import numpy\n",
    "import math"
   ]
  },
  {
   "cell_type": "code",
   "execution_count": 23,
   "metadata": {},
   "outputs": [
    {
     "data": {
      "text/plain": [
       "Value(data=-8.0)"
      ]
     },
     "execution_count": 23,
     "metadata": {},
     "output_type": "execute_result"
    }
   ],
   "source": [
    "class Value:\n",
    "    def __init__(self, data, _children=(), _op=\"\", label=\"\"):\n",
    "        self.data = data; \n",
    "        self._prev = set(_children)\n",
    "        self._op = _op\n",
    "        self.label = label;\n",
    "    def __repr__(self):\n",
    "        return f\"Value(data={self.data})\"\n",
    "    def __add__(self, other):\n",
    "        out = Value(self.data + other.data, (self, other), \"+\");\n",
    "        return out;\n",
    "    def __mul__(self, other):\n",
    "        out = Value(self.data * other.data, (self, other), \"*\");\n",
    "        return out;\n",
    "a = Value(2.0, label=\"a\");\n",
    "b = Value(-3.0, label=\"b\");\n",
    "c = Value(10.0, label=\"c\");\n",
    "e = a * b; e.label = \"e\"\n",
    "d = e + c; d.label = \"d\"\n",
    "f = Value(-2.0, label=\"f\")\n",
    "L = d * f; L.label = \"L\"\n",
    "L"
   ]
  },
  {
   "cell_type": "markdown",
   "metadata": {},
   "source": [
    "Backpropigation, we want to know the derivative of our LOSS in terms of different values that we want to minimize or maximize.\n",
    "Typically the \"LEAF NODES\" or weights and biases."
   ]
  },
  {
   "cell_type": "code",
   "execution_count": null,
   "metadata": {},
   "outputs": [],
   "source": []
  }
 ],
 "metadata": {
  "kernelspec": {
   "display_name": "Python 3",
   "language": "python",
   "name": "python3"
  },
  "language_info": {
   "codemirror_mode": {
    "name": "ipython",
    "version": 3
   },
   "file_extension": ".py",
   "mimetype": "text/x-python",
   "name": "python",
   "nbconvert_exporter": "python",
   "pygments_lexer": "ipython3",
   "version": "3.10.6"
  }
 },
 "nbformat": 4,
 "nbformat_minor": 2
}
